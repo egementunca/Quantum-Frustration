{
 "cells": [
  {
   "cell_type": "code",
   "execution_count": 9,
   "metadata": {},
   "outputs": [],
   "source": [
    "import test_code as q\n",
    "import sympy as sp\n",
    "import IPython.display as disp\n",
    "import warnings\n",
    "warnings.filterwarnings(\"ignore\")"
   ]
  },
  {
   "cell_type": "code",
   "execution_count": 47,
   "id": "c90b57ac",
   "metadata": {},
   "outputs": [],
   "source": [
    "def hamiltonian(chain_length,j,h):\n",
    "    a = q.nnInteraction(chain_length,j)\n",
    "    b = q.magneticField(chain_length,h)\n",
    "    return a+b"
   ]
  },
  {
   "cell_type": "code",
   "execution_count": 55,
   "id": "a0437aa8",
   "metadata": {},
   "outputs": [],
   "source": [
    "chain_length = 3\n",
    "j = [-1*sp.Symbol('J'),\n",
    "     1*sp.Symbol('J'),\n",
    "     -1*sp.Symbol('J'),]\n",
    "f_af_j = [(-1**x)*sp.Symbol('J') for x in range(chain_length)]\n",
    "h = [sp.Symbol('h')]*chain_length\n",
    "m = hamiltonian(chain_length,j=j,h=h)"
   ]
  },
  {
   "cell_type": "code",
   "execution_count": 56,
   "id": "e53aa346",
   "metadata": {},
   "outputs": [
    {
     "data": {
      "text/latex": [
       "$\\displaystyle \\left[\\begin{matrix}- J & h & h & 0 & h & 0 & 0 & 0\\\\h & 3 J & 0 & h & 0 & h & 0 & 0\\\\h & 0 & - J & h & 0 & 0 & h & 0\\\\0 & h & h & - J & 0 & 0 & 0 & h\\\\h & 0 & 0 & 0 & - J & h & h & 0\\\\0 & h & 0 & 0 & h & - J & 0 & h\\\\0 & 0 & h & 0 & h & 0 & 3 J & h\\\\0 & 0 & 0 & h & 0 & h & h & - J\\end{matrix}\\right]$"
      ],
      "text/plain": [
       "⎡-J   h   h   0   h   0    0   0 ⎤\n",
       "⎢                                ⎥\n",
       "⎢h   3⋅J  0   h   0   h    0   0 ⎥\n",
       "⎢                                ⎥\n",
       "⎢h    0   -J  h   0   0    h   0 ⎥\n",
       "⎢                                ⎥\n",
       "⎢0    h   h   -J  0   0    0   h ⎥\n",
       "⎢                                ⎥\n",
       "⎢h    0   0   0   -J  h    h   0 ⎥\n",
       "⎢                                ⎥\n",
       "⎢0    h   0   0   h   -J   0   h ⎥\n",
       "⎢                                ⎥\n",
       "⎢0    0   h   0   h   0   3⋅J  h ⎥\n",
       "⎢                                ⎥\n",
       "⎣0    0   0   h   0   h    h   -J⎦"
      ]
     },
     "metadata": {},
     "output_type": "display_data"
    }
   ],
   "source": [
    "disp.display(m)"
   ]
  },
  {
   "cell_type": "code",
   "execution_count": null,
   "id": "ac58b358",
   "metadata": {},
   "outputs": [],
   "source": []
  }
 ],
 "metadata": {
  "interpreter": {
   "hash": "aee8b7b246df8f9039afb4144a1f6fd8d2ca17a180786b69acc140d282b71a49"
  },
  "kernelspec": {
   "display_name": "Python 3.9.0 64-bit",
   "language": "python",
   "name": "python3"
  },
  "language_info": {
   "codemirror_mode": {
    "name": "ipython",
    "version": 3
   },
   "file_extension": ".py",
   "mimetype": "text/x-python",
   "name": "python",
   "nbconvert_exporter": "python",
   "pygments_lexer": "ipython3",
   "version": "3.9.0"
  }
 },
 "nbformat": 4,
 "nbformat_minor": 5
}
